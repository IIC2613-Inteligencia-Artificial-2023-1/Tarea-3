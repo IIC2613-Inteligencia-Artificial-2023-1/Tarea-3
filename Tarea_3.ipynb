{
  "nbformat": 4,
  "nbformat_minor": 0,
  "metadata": {
    "colab": {
      "provenance": [],
      "gpuType": "T4"
    },
    "kernelspec": {
      "name": "python3",
      "display_name": "Python 3"
    },
    "language_info": {
      "name": "python"
    },
    "accelerator": "GPU"
  },
  "cells": [
    {
      "cell_type": "code",
      "execution_count": null,
      "metadata": {
        "id": "3yJn5rCZ4OKA"
      },
      "outputs": [],
      "source": [
        "!gdown 1ZV_nCUfuitYz0vpKFhg5wdwz_LlaVQVo\n",
        "!unzip 'Avengers 1.zip'"
      ]
    },
    {
      "cell_type": "code",
      "source": [
        "!pip install face_recognition"
      ],
      "metadata": {
        "id": "hdGnoIcV4spD"
      },
      "execution_count": null,
      "outputs": []
    },
    {
      "cell_type": "code",
      "source": [
        "import face_recognition as fr"
      ],
      "metadata": {
        "id": "sKr5vF384gcJ"
      },
      "execution_count": 5,
      "outputs": []
    }
  ]
}