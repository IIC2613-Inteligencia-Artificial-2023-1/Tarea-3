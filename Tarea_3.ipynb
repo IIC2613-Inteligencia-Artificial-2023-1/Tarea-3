{
  "nbformat": 4,
  "nbformat_minor": 0,
  "metadata": {
    "colab": {
      "provenance": [],
      "gpuType": "T4"
    },
    "kernelspec": {
      "name": "python3",
      "display_name": "Python 3"
    },
    "language_info": {
      "name": "python"
    },
    "accelerator": "GPU"
  },
  "cells": [
    {
      "cell_type": "code",
      "execution_count": null,
      "metadata": {
        "id": "3yJn5rCZ4OKA"
      },
      "outputs": [],
      "source": [
        "!gdown 1ZV_nCUfuitYz0vpKFhg5wdwz_LlaVQVo\n",
        "!unzip 'Avengers 1.zip'"
      ]
    },
    {
      "cell_type": "code",
      "source": [
        "!pip install face_recognition"
      ],
      "metadata": {
        "id": "hdGnoIcV4spD"
      },
      "execution_count": null,
      "outputs": []
    },
    {
      "cell_type": "code",
      "source": [
        "import face_recognition as fr"
      ],
      "metadata": {
        "id": "sKr5vF384gcJ"
      },
      "execution_count": 5,
      "outputs": []
    },
    {
      "cell_type": "markdown",
      "source": [
        "#Actividad 1"
      ],
      "metadata": {
        "id": "t3gmFg8l9vBA"
      }
    },
    {
      "cell_type": "code",
      "source": [],
      "metadata": {
        "id": "VIvJsbxl90Nx"
      },
      "execution_count": null,
      "outputs": []
    },
    {
      "cell_type": "markdown",
      "source": [
        "#Actividad 2"
      ],
      "metadata": {
        "id": "01pCwHID92y5"
      }
    },
    {
      "cell_type": "code",
      "source": [],
      "metadata": {
        "id": "0789oFCi92y6"
      },
      "execution_count": null,
      "outputs": []
    },
    {
      "cell_type": "markdown",
      "source": [
        "#Actividad 3"
      ],
      "metadata": {
        "id": "77TMqlkM924z"
      }
    },
    {
      "cell_type": "code",
      "source": [],
      "metadata": {
        "id": "L1zeUIYr9240"
      },
      "execution_count": null,
      "outputs": []
    },
    {
      "cell_type": "markdown",
      "source": [
        "#Actividad 4"
      ],
      "metadata": {
        "id": "fQGpTgtk929Z"
      }
    },
    {
      "cell_type": "code",
      "source": [],
      "metadata": {
        "id": "zBAF6MMv929Z"
      },
      "execution_count": null,
      "outputs": []
    },
    {
      "cell_type": "markdown",
      "source": [
        "#Actividad 5"
      ],
      "metadata": {
        "id": "Kyrq5e_G93Jk"
      }
    },
    {
      "cell_type": "code",
      "source": [],
      "metadata": {
        "id": "r95p70tr93Jk"
      },
      "execution_count": null,
      "outputs": []
    },
    {
      "cell_type": "markdown",
      "source": [
        "#Actividad 6"
      ],
      "metadata": {
        "id": "NDOJaZLC93OE"
      }
    },
    {
      "cell_type": "code",
      "source": [],
      "metadata": {
        "id": "OXiN3XfE93OF"
      },
      "execution_count": null,
      "outputs": []
    },
    {
      "cell_type": "markdown",
      "source": [
        "#Bonus"
      ],
      "metadata": {
        "id": "4vvdLHKg-C1i"
      }
    },
    {
      "cell_type": "code",
      "source": [],
      "metadata": {
        "id": "4tM_swGV-FPH"
      },
      "execution_count": null,
      "outputs": []
    }
  ]
}